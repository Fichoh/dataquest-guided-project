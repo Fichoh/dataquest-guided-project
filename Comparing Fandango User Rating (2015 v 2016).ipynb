{
 "cells": [
  {
   "cell_type": "markdown",
   "metadata": {},
   "source": [
    "# INVESTIGATING FANDANGO MOVIE RATING#"
   ]
  },
  {
   "cell_type": "markdown",
   "metadata": {},
   "source": [
    "This short project aims to investigate the discrepancies showcased on the fandango movie website concerning the ratings of films used to help impending viewers make selection.\n",
    "This project aims to determine if there has been any change in fandango's rating system after Hickey's analysis."
   ]
  },
  {
   "cell_type": "code",
   "execution_count": 1,
   "metadata": {
    "collapsed": true
   },
   "outputs": [],
   "source": [
    "import pandas as pd\n",
    "import matplotlib.pyplot as plt\n",
    "import seaborn as sns\n",
    "import numpy as np"
   ]
  },
  {
   "cell_type": "code",
   "execution_count": 2,
   "metadata": {
    "collapsed": false
   },
   "outputs": [],
   "source": [
    "fs = pd.read_csv('fandango_score_comparison.csv')\n",
    "mv = pd.read_csv('movie_ratings_16_17.csv')"
   ]
  },
  {
   "cell_type": "code",
   "execution_count": 3,
   "metadata": {
    "collapsed": false
   },
   "outputs": [
    {
     "name": "stdout",
     "output_type": "stream",
     "text": [
      "Index(['FILM', 'RottenTomatoes', 'RottenTomatoes_User', 'Metacritic',\n",
      "       'Metacritic_User', 'IMDB', 'Fandango_Stars', 'Fandango_Ratingvalue',\n",
      "       'RT_norm', 'RT_user_norm', 'Metacritic_norm', 'Metacritic_user_nom',\n",
      "       'IMDB_norm', 'RT_norm_round', 'RT_user_norm_round',\n",
      "       'Metacritic_norm_round', 'Metacritic_user_norm_round',\n",
      "       'IMDB_norm_round', 'Metacritic_user_vote_count', 'IMDB_user_vote_count',\n",
      "       'Fandango_votes', 'Fandango_Difference'],\n",
      "      dtype='object')\n",
      "Index(['movie', 'year', 'metascore', 'imdb', 'tmeter', 'audience', 'fandango',\n",
      "       'n_metascore', 'n_imdb', 'n_tmeter', 'n_audience', 'nr_metascore',\n",
      "       'nr_imdb', 'nr_tmeter', 'nr_audience'],\n",
      "      dtype='object')\n"
     ]
    }
   ],
   "source": [
    "print(fs.columns)\n",
    "print(mv.columns)"
   ]
  },
  {
   "cell_type": "code",
   "execution_count": 4,
   "metadata": {
    "collapsed": false
   },
   "outputs": [
    {
     "name": "stdout",
     "output_type": "stream",
     "text": [
      "FILM                          0\n",
      "RottenTomatoes                0\n",
      "RottenTomatoes_User           0\n",
      "Metacritic                    0\n",
      "Metacritic_User               0\n",
      "IMDB                          0\n",
      "Fandango_Stars                0\n",
      "Fandango_Ratingvalue          0\n",
      "RT_norm                       0\n",
      "RT_user_norm                  0\n",
      "Metacritic_norm               0\n",
      "Metacritic_user_nom           0\n",
      "IMDB_norm                     0\n",
      "RT_norm_round                 0\n",
      "RT_user_norm_round            0\n",
      "Metacritic_norm_round         0\n",
      "Metacritic_user_norm_round    0\n",
      "IMDB_norm_round               0\n",
      "Metacritic_user_vote_count    0\n",
      "IMDB_user_vote_count          0\n",
      "Fandango_votes                0\n",
      "Fandango_Difference           0\n",
      "dtype: int64\n",
      "movie           0\n",
      "year            0\n",
      "metascore       0\n",
      "imdb            0\n",
      "tmeter          0\n",
      "audience        0\n",
      "fandango        0\n",
      "n_metascore     0\n",
      "n_imdb          0\n",
      "n_tmeter        0\n",
      "n_audience      0\n",
      "nr_metascore    0\n",
      "nr_imdb         0\n",
      "nr_tmeter       0\n",
      "nr_audience     0\n",
      "dtype: int64\n"
     ]
    }
   ],
   "source": [
    "print(fs.isnull().sum())\n",
    "print(mv.isnull().sum())"
   ]
  },
  {
   "cell_type": "markdown",
   "metadata": {},
   "source": [
    "Both data are devoid of null values"
   ]
  },
  {
   "cell_type": "code",
   "execution_count": 5,
   "metadata": {
    "collapsed": false
   },
   "outputs": [
    {
     "name": "stdout",
     "output_type": "stream",
     "text": [
      "       RottenTomatoes  RottenTomatoes_User  Metacritic  Metacritic_User  \\\n",
      "count      146.000000           146.000000  146.000000       146.000000   \n",
      "mean        60.849315            63.876712   58.808219         6.519178   \n",
      "std         30.168799            20.024430   19.517389         1.510712   \n",
      "min          5.000000            20.000000   13.000000         2.400000   \n",
      "25%         31.250000            50.000000   43.500000         5.700000   \n",
      "50%         63.500000            66.500000   59.000000         6.850000   \n",
      "75%         89.000000            81.000000   75.000000         7.500000   \n",
      "max        100.000000            94.000000   94.000000         9.600000   \n",
      "\n",
      "             IMDB  Fandango_Stars  Fandango_Ratingvalue     RT_norm  \\\n",
      "count  146.000000      146.000000            146.000000  146.000000   \n",
      "mean     6.736986        4.089041              3.845205    3.042466   \n",
      "std      0.958736        0.540386              0.502831    1.508440   \n",
      "min      4.000000        3.000000              2.700000    0.250000   \n",
      "25%      6.300000        3.500000              3.500000    1.562500   \n",
      "50%      6.900000        4.000000              3.900000    3.175000   \n",
      "75%      7.400000        4.500000              4.200000    4.450000   \n",
      "max      8.600000        5.000000              4.800000    5.000000   \n",
      "\n",
      "       RT_user_norm  Metacritic_norm         ...            IMDB_norm  \\\n",
      "count    146.000000       146.000000         ...           146.000000   \n",
      "mean       3.193836         2.940411         ...             3.368493   \n",
      "std        1.001222         0.975869         ...             0.479368   \n",
      "min        1.000000         0.650000         ...             2.000000   \n",
      "25%        2.500000         2.175000         ...             3.150000   \n",
      "50%        3.325000         2.950000         ...             3.450000   \n",
      "75%        4.050000         3.750000         ...             3.700000   \n",
      "max        4.700000         4.700000         ...             4.300000   \n",
      "\n",
      "       RT_norm_round  RT_user_norm_round  Metacritic_norm_round  \\\n",
      "count     146.000000          146.000000             146.000000   \n",
      "mean        3.065068            3.226027               2.972603   \n",
      "std         1.514600            1.007014               0.990961   \n",
      "min         0.500000            1.000000               0.500000   \n",
      "25%         1.500000            2.500000               2.125000   \n",
      "50%         3.000000            3.500000               3.000000   \n",
      "75%         4.500000            4.000000               4.000000   \n",
      "max         5.000000            4.500000               4.500000   \n",
      "\n",
      "       Metacritic_user_norm_round  IMDB_norm_round  \\\n",
      "count                  146.000000       146.000000   \n",
      "mean                     3.270548         3.380137   \n",
      "std                      0.788116         0.502767   \n",
      "min                      1.000000         2.000000   \n",
      "25%                      3.000000         3.000000   \n",
      "50%                      3.500000         3.500000   \n",
      "75%                      4.000000         3.500000   \n",
      "max                      5.000000         4.500000   \n",
      "\n",
      "       Metacritic_user_vote_count  IMDB_user_vote_count  Fandango_votes  \\\n",
      "count                  146.000000            146.000000      146.000000   \n",
      "mean                   185.705479          42846.205479     3848.787671   \n",
      "std                    316.606515          67406.509171     6357.778617   \n",
      "min                      4.000000            243.000000       35.000000   \n",
      "25%                     33.250000           5627.000000      222.250000   \n",
      "50%                     72.500000          19103.000000     1446.000000   \n",
      "75%                    168.500000          45185.750000     4439.500000   \n",
      "max                   2375.000000         334164.000000    34846.000000   \n",
      "\n",
      "       Fandango_Difference  \n",
      "count           146.000000  \n",
      "mean              0.243836  \n",
      "std               0.152665  \n",
      "min               0.000000  \n",
      "25%               0.100000  \n",
      "50%               0.200000  \n",
      "75%               0.400000  \n",
      "max               0.500000  \n",
      "\n",
      "[8 rows x 21 columns]\n",
      "              year   metascore        imdb      tmeter    audience  \\\n",
      "count   214.000000  214.000000  214.000000  214.000000  214.000000   \n",
      "mean   2016.107477   53.266355    6.440654   53.621495   58.626168   \n",
      "std       0.310444   17.843585    1.030056   30.242396   21.100040   \n",
      "min    2016.000000   11.000000    3.500000    0.000000   11.000000   \n",
      "25%    2016.000000   39.000000    5.825000   27.000000   43.250000   \n",
      "50%    2016.000000   53.500000    6.500000   56.500000   60.500000   \n",
      "75%    2016.000000   66.000000    7.200000   83.000000   76.750000   \n",
      "max    2017.000000   99.000000    8.500000   99.000000   93.000000   \n",
      "\n",
      "         fandango  n_metascore      n_imdb    n_tmeter  n_audience  \\\n",
      "count  214.000000   214.000000  214.000000  214.000000  214.000000   \n",
      "mean     3.894860     2.663318    3.220327    2.681075    2.931308   \n",
      "std      0.516781     0.892179    0.515028    1.512120    1.055002   \n",
      "min      2.500000     0.550000    1.750000    0.000000    0.550000   \n",
      "25%      3.500000     1.950000    2.912500    1.350000    2.162500   \n",
      "50%      4.000000     2.675000    3.250000    2.825000    3.025000   \n",
      "75%      4.500000     3.300000    3.600000    4.150000    3.837500   \n",
      "max      5.000000     4.950000    4.250000    4.950000    4.650000   \n",
      "\n",
      "       nr_metascore     nr_imdb   nr_tmeter  nr_audience  \n",
      "count    214.000000  214.000000  214.000000   214.000000  \n",
      "mean       2.658879    3.214953    2.691589     2.915888  \n",
      "std        0.924619    0.526803    1.519273     1.060352  \n",
      "min        0.500000    2.000000    0.000000     0.500000  \n",
      "25%        2.000000    3.000000    1.500000     2.000000  \n",
      "50%        2.500000    3.000000    3.000000     3.000000  \n",
      "75%        3.500000    3.500000    4.000000     4.000000  \n",
      "max        5.000000    4.000000    5.000000     4.500000  \n"
     ]
    }
   ],
   "source": [
    "print(fs.describe())\n",
    "print(mv.describe())"
   ]
  },
  {
   "cell_type": "code",
   "execution_count": 6,
   "metadata": {
    "collapsed": true
   },
   "outputs": [],
   "source": [
    "fs_before =fs[['FILM', 'Fandango_Stars', 'Fandango_Ratingvalue', 'Fandango_votes', 'Fandango_Difference']]"
   ]
  },
  {
   "cell_type": "code",
   "execution_count": 7,
   "metadata": {
    "collapsed": true
   },
   "outputs": [],
   "source": [
    "mv_after = mv[['movie', 'year', 'fandango']]"
   ]
  },
  {
   "cell_type": "markdown",
   "metadata": {},
   "source": [
    "The population of interest is to investigate movie rating \n",
    "associated with fandango, so we isolate columns in the data\n",
    "that has to do with fandango ratings.\n",
    "\n",
    "The movie sampling isn't random as it has some criterias were \n",
    "considered(Hickey's data) such as : \n",
    "\n",
    "* Number of User Rating must be 30 and above.\n",
    "* Movie ticket must be on sale by 2015.\n",
    "           \n",
    "For the second dataset :\n",
    "\n",
    "* Movie must have been released in 2016 or later.\n",
    "* Must have considerable number of reviews and votes.\n",
    "\n",
    "The sample are not represntative of the population of interest as the compilers of the dataset have different question which is different from our own intention in mind.\n",
    "\n",
    "\n",
    "\n"
   ]
  },
  {
   "cell_type": "markdown",
   "metadata": {},
   "source": [
    "## changing our aim ##\n",
    "However, using the dataset we can determine if there is any change in fandango's rating of popular movies in 2015 and the published ratings in 2016.\n",
    "\n",
    "NB: Here, we say a movie is 'popular' in this project if it has 30 or more fan rating"
   ]
  },
  {
   "cell_type": "markdown",
   "metadata": {
    "collapsed": true
   },
   "source": [
    "The second dataset however doesn't provide any information about number of fan rating\n",
    "so we can sample randomly and check up the movie's number of fan \n",
    "rating on the fandango website so as to ensure good representativity."
   ]
  },
  {
   "cell_type": "code",
   "execution_count": 8,
   "metadata": {
    "collapsed": false
   },
   "outputs": [
    {
     "data": {
      "text/html": [
       "<div>\n",
       "<style scoped>\n",
       "    .dataframe tbody tr th:only-of-type {\n",
       "        vertical-align: middle;\n",
       "    }\n",
       "\n",
       "    .dataframe tbody tr th {\n",
       "        vertical-align: top;\n",
       "    }\n",
       "\n",
       "    .dataframe thead th {\n",
       "        text-align: right;\n",
       "    }\n",
       "</style>\n",
       "<table border=\"1\" class=\"dataframe\">\n",
       "  <thead>\n",
       "    <tr style=\"text-align: right;\">\n",
       "      <th></th>\n",
       "      <th>movie</th>\n",
       "      <th>year</th>\n",
       "      <th>fandango</th>\n",
       "    </tr>\n",
       "  </thead>\n",
       "  <tbody>\n",
       "    <tr>\n",
       "      <th>117</th>\n",
       "      <td>Morgan</td>\n",
       "      <td>2016</td>\n",
       "      <td>3.5</td>\n",
       "    </tr>\n",
       "    <tr>\n",
       "      <th>163</th>\n",
       "      <td>The Boss</td>\n",
       "      <td>2016</td>\n",
       "      <td>3.5</td>\n",
       "    </tr>\n",
       "    <tr>\n",
       "      <th>145</th>\n",
       "      <td>Skiptrace</td>\n",
       "      <td>2016</td>\n",
       "      <td>3.5</td>\n",
       "    </tr>\n",
       "    <tr>\n",
       "      <th>134</th>\n",
       "      <td>Pride and Prejudice and Zombies</td>\n",
       "      <td>2016</td>\n",
       "      <td>4.0</td>\n",
       "    </tr>\n",
       "    <tr>\n",
       "      <th>112</th>\n",
       "      <td>Misconduct</td>\n",
       "      <td>2016</td>\n",
       "      <td>3.0</td>\n",
       "    </tr>\n",
       "    <tr>\n",
       "      <th>74</th>\n",
       "      <td>I.T.</td>\n",
       "      <td>2016</td>\n",
       "      <td>3.5</td>\n",
       "    </tr>\n",
       "    <tr>\n",
       "      <th>126</th>\n",
       "      <td>Office Christmas Party</td>\n",
       "      <td>2016</td>\n",
       "      <td>3.5</td>\n",
       "    </tr>\n",
       "    <tr>\n",
       "      <th>65</th>\n",
       "      <td>Hacksaw Ridge</td>\n",
       "      <td>2016</td>\n",
       "      <td>4.5</td>\n",
       "    </tr>\n",
       "    <tr>\n",
       "      <th>181</th>\n",
       "      <td>The Infiltrator</td>\n",
       "      <td>2016</td>\n",
       "      <td>4.0</td>\n",
       "    </tr>\n",
       "    <tr>\n",
       "      <th>110</th>\n",
       "      <td>Mike and Dave Need Wedding Dates</td>\n",
       "      <td>2016</td>\n",
       "      <td>4.0</td>\n",
       "    </tr>\n",
       "  </tbody>\n",
       "</table>\n",
       "</div>"
      ],
      "text/plain": [
       "                                movie  year  fandango\n",
       "117                            Morgan  2016       3.5\n",
       "163                          The Boss  2016       3.5\n",
       "145                         Skiptrace  2016       3.5\n",
       "134   Pride and Prejudice and Zombies  2016       4.0\n",
       "112                        Misconduct  2016       3.0\n",
       "74                               I.T.  2016       3.5\n",
       "126            Office Christmas Party  2016       3.5\n",
       "65                      Hacksaw Ridge  2016       4.5\n",
       "181                   The Infiltrator  2016       4.0\n",
       "110  Mike and Dave Need Wedding Dates  2016       4.0"
      ]
     },
     "execution_count": 8,
     "metadata": {},
     "output_type": "execute_result"
    }
   ],
   "source": [
    "mv_after.sample(10, random_state=100)"
   ]
  },
  {
   "cell_type": "markdown",
   "metadata": {},
   "source": [
    "Looking up the number of fan user rating on the fandango website,\n",
    "90% of the movies were popular, so we can proceed"
   ]
  },
  {
   "cell_type": "markdown",
   "metadata": {},
   "source": [
    "Lets also ensure that **'fs_before'** dataset also contains movies with\n",
    "number of user rating greater than 30"
   ]
  },
  {
   "cell_type": "code",
   "execution_count": 9,
   "metadata": {
    "collapsed": false
   },
   "outputs": [
    {
     "data": {
      "text/plain": [
       "0"
      ]
     },
     "execution_count": 9,
     "metadata": {},
     "output_type": "execute_result"
    }
   ],
   "source": [
    "(fs_before['Fandango_votes'] < 30).sum()"
   ]
  },
  {
   "cell_type": "code",
   "execution_count": 10,
   "metadata": {
    "collapsed": false
   },
   "outputs": [
    {
     "data": {
      "text/html": [
       "<div>\n",
       "<style scoped>\n",
       "    .dataframe tbody tr th:only-of-type {\n",
       "        vertical-align: middle;\n",
       "    }\n",
       "\n",
       "    .dataframe tbody tr th {\n",
       "        vertical-align: top;\n",
       "    }\n",
       "\n",
       "    .dataframe thead th {\n",
       "        text-align: right;\n",
       "    }\n",
       "</style>\n",
       "<table border=\"1\" class=\"dataframe\">\n",
       "  <thead>\n",
       "    <tr style=\"text-align: right;\">\n",
       "      <th></th>\n",
       "      <th>FILM</th>\n",
       "      <th>Fandango_Stars</th>\n",
       "      <th>Fandango_Ratingvalue</th>\n",
       "      <th>Fandango_votes</th>\n",
       "      <th>Fandango_Difference</th>\n",
       "    </tr>\n",
       "  </thead>\n",
       "  <tbody>\n",
       "    <tr>\n",
       "      <th>0</th>\n",
       "      <td>Avengers: Age of Ultron (2015)</td>\n",
       "      <td>5.0</td>\n",
       "      <td>4.5</td>\n",
       "      <td>14846</td>\n",
       "      <td>0.5</td>\n",
       "    </tr>\n",
       "    <tr>\n",
       "      <th>1</th>\n",
       "      <td>Cinderella (2015)</td>\n",
       "      <td>5.0</td>\n",
       "      <td>4.5</td>\n",
       "      <td>12640</td>\n",
       "      <td>0.5</td>\n",
       "    </tr>\n",
       "    <tr>\n",
       "      <th>2</th>\n",
       "      <td>Ant-Man (2015)</td>\n",
       "      <td>5.0</td>\n",
       "      <td>4.5</td>\n",
       "      <td>12055</td>\n",
       "      <td>0.5</td>\n",
       "    </tr>\n",
       "    <tr>\n",
       "      <th>3</th>\n",
       "      <td>Do You Believe? (2015)</td>\n",
       "      <td>5.0</td>\n",
       "      <td>4.5</td>\n",
       "      <td>1793</td>\n",
       "      <td>0.5</td>\n",
       "    </tr>\n",
       "    <tr>\n",
       "      <th>4</th>\n",
       "      <td>Hot Tub Time Machine 2 (2015)</td>\n",
       "      <td>3.5</td>\n",
       "      <td>3.0</td>\n",
       "      <td>1021</td>\n",
       "      <td>0.5</td>\n",
       "    </tr>\n",
       "  </tbody>\n",
       "</table>\n",
       "</div>"
      ],
      "text/plain": [
       "                             FILM  Fandango_Stars  Fandango_Ratingvalue  \\\n",
       "0  Avengers: Age of Ultron (2015)             5.0                   4.5   \n",
       "1               Cinderella (2015)             5.0                   4.5   \n",
       "2                  Ant-Man (2015)             5.0                   4.5   \n",
       "3          Do You Believe? (2015)             5.0                   4.5   \n",
       "4   Hot Tub Time Machine 2 (2015)             3.5                   3.0   \n",
       "\n",
       "   Fandango_votes  Fandango_Difference  \n",
       "0           14846                  0.5  \n",
       "1           12640                  0.5  \n",
       "2           12055                  0.5  \n",
       "3            1793                  0.5  \n",
       "4            1021                  0.5  "
      ]
     },
     "execution_count": 10,
     "metadata": {},
     "output_type": "execute_result"
    }
   ],
   "source": [
    "fs_before.head()"
   ]
  },
  {
   "cell_type": "markdown",
   "metadata": {},
   "source": [
    "## EXTRACTING YEAR OF MOVIE ##"
   ]
  },
  {
   "cell_type": "code",
   "execution_count": 11,
   "metadata": {
    "collapsed": false
   },
   "outputs": [
    {
     "name": "stderr",
     "output_type": "stream",
     "text": [
      "/dataquest/system/env/python3/lib/python3.4/site-packages/ipykernel/__main__.py:1: SettingWithCopyWarning:\n",
      "\n",
      "\n",
      "A value is trying to be set on a copy of a slice from a DataFrame.\n",
      "Try using .loc[row_indexer,col_indexer] = value instead\n",
      "\n",
      "See the caveats in the documentation: http://pandas.pydata.org/pandas-docs/stable/indexing.html#indexing-view-versus-copy\n",
      "\n"
     ]
    }
   ],
   "source": [
    "fs_before['Year'] = fs_before['FILM'].str[-5:-1]"
   ]
  },
  {
   "cell_type": "code",
   "execution_count": 12,
   "metadata": {
    "collapsed": false
   },
   "outputs": [
    {
     "data": {
      "text/html": [
       "<div>\n",
       "<style scoped>\n",
       "    .dataframe tbody tr th:only-of-type {\n",
       "        vertical-align: middle;\n",
       "    }\n",
       "\n",
       "    .dataframe tbody tr th {\n",
       "        vertical-align: top;\n",
       "    }\n",
       "\n",
       "    .dataframe thead th {\n",
       "        text-align: right;\n",
       "    }\n",
       "</style>\n",
       "<table border=\"1\" class=\"dataframe\">\n",
       "  <thead>\n",
       "    <tr style=\"text-align: right;\">\n",
       "      <th></th>\n",
       "      <th>FILM</th>\n",
       "      <th>Fandango_Stars</th>\n",
       "      <th>Fandango_Ratingvalue</th>\n",
       "      <th>Fandango_votes</th>\n",
       "      <th>Fandango_Difference</th>\n",
       "      <th>Year</th>\n",
       "    </tr>\n",
       "  </thead>\n",
       "  <tbody>\n",
       "    <tr>\n",
       "      <th>0</th>\n",
       "      <td>Avengers: Age of Ultron (2015)</td>\n",
       "      <td>5.0</td>\n",
       "      <td>4.5</td>\n",
       "      <td>14846</td>\n",
       "      <td>0.5</td>\n",
       "      <td>2015</td>\n",
       "    </tr>\n",
       "  </tbody>\n",
       "</table>\n",
       "</div>"
      ],
      "text/plain": [
       "                             FILM  Fandango_Stars  Fandango_Ratingvalue  \\\n",
       "0  Avengers: Age of Ultron (2015)             5.0                   4.5   \n",
       "\n",
       "   Fandango_votes  Fandango_Difference  Year  \n",
       "0           14846                  0.5  2015  "
      ]
     },
     "execution_count": 12,
     "metadata": {},
     "output_type": "execute_result"
    }
   ],
   "source": [
    "fs_before.head(1)"
   ]
  },
  {
   "cell_type": "code",
   "execution_count": 13,
   "metadata": {
    "collapsed": false
   },
   "outputs": [
    {
     "data": {
      "text/plain": [
       "2015    129\n",
       "2014     17\n",
       "Name: Year, dtype: int64"
      ]
     },
     "execution_count": 13,
     "metadata": {},
     "output_type": "execute_result"
    }
   ],
   "source": [
    "fs_before['Year'].value_counts()"
   ]
  },
  {
   "cell_type": "code",
   "execution_count": 14,
   "metadata": {
    "collapsed": true
   },
   "outputs": [],
   "source": [
    "fs_2015 = fs_before[fs_before['Year'] == '2015']"
   ]
  },
  {
   "cell_type": "code",
   "execution_count": 15,
   "metadata": {
    "collapsed": false
   },
   "outputs": [
    {
     "data": {
      "text/plain": [
       "(129, 6)"
      ]
     },
     "execution_count": 15,
     "metadata": {},
     "output_type": "execute_result"
    }
   ],
   "source": [
    "fs_2015.shape"
   ]
  },
  {
   "cell_type": "code",
   "execution_count": 16,
   "metadata": {
    "collapsed": false
   },
   "outputs": [
    {
     "data": {
      "text/plain": [
       "2016    191\n",
       "2017     23\n",
       "Name: year, dtype: int64"
      ]
     },
     "execution_count": 16,
     "metadata": {},
     "output_type": "execute_result"
    }
   ],
   "source": [
    "mv_after['year'].value_counts()"
   ]
  },
  {
   "cell_type": "code",
   "execution_count": 17,
   "metadata": {
    "collapsed": false
   },
   "outputs": [],
   "source": [
    "mv_2016 = mv_after[mv_after['year'] == 2016]"
   ]
  },
  {
   "cell_type": "code",
   "execution_count": 18,
   "metadata": {
    "collapsed": false
   },
   "outputs": [
    {
     "data": {
      "text/plain": [
       "(191, 3)"
      ]
     },
     "execution_count": 18,
     "metadata": {},
     "output_type": "execute_result"
    }
   ],
   "source": [
    "mv_2016.shape"
   ]
  },
  {
   "cell_type": "markdown",
   "metadata": {},
   "source": [
    "## COMPARING SHAPE OF THE DISTRIBUTION BY YEAR ##\n",
    "\n",
    "We are about to compare fandango's rating in 2015 and 2016 \n",
    "and ultimately determinetif there is any significant difference"
   ]
  },
  {
   "cell_type": "code",
   "execution_count": 33,
   "metadata": {
    "collapsed": false
   },
   "outputs": [
    {
     "data": {
      "image/png": "[encoded data removed]",
      "text/plain": [
       "<matplotlib.figure.Figure at 0x7fe7f3d95208>"
      ]
     },
     "metadata": {},
     "output_type": "display_data"
    }
   ],
   "source": [
    "%matplotlib inline\n",
    "#plt.style.use('fivethirtyeight')\n",
    "fs_2015['Fandango_Stars'].plot.kde(label='2015', legend=True)\n",
    "mv_2016['fandango'].plot.kde(label='2016', legend=True)\n",
    "plt.title('Comparing Distribution Shapes for Fandango\"s Rating \\n(2015/2016)',\n",
    "          y=1.02) #y pushes the title upward\n",
    "plt.xlim(0,5)\n",
    "plt.xlabel('Stars')\n",
    "plt.xticks(np.arange(0,5,0.5))\n",
    "plt.show()"
   ]
  },
  {
   "cell_type": "markdown",
   "metadata": {},
   "source": [
    "Visualizing the shapes of both distribution, They possess similar shape\n",
    "and are negatively skewed.\n",
    "\n",
    "However, the 2016 distribution shifted relatively to the left of\n",
    "the 2015 distribution. \n",
    "\n",
    "This shows thst the 2016 rating of popular movies were \n",
    "slightly lower than that of 2015.\n"
   ]
  },
  {
   "cell_type": "markdown",
   "metadata": {},
   "source": [
    "## EXAMINING THE RELATIVE FREQUENCY BY YEAR ##\n",
    "\n",
    "For the sake of granularity"
   ]
  },
  {
   "cell_type": "code",
   "execution_count": 20,
   "metadata": {
    "collapsed": false
   },
   "outputs": [
    {
     "name": "stdout",
     "output_type": "stream",
     "text": [
      "2015\n",
      "---------------\n"
     ]
    },
    {
     "data": {
      "text/plain": [
       "3.0     8.527132\n",
       "3.5    17.829457\n",
       "4.0    28.682171\n",
       "4.5    37.984496\n",
       "5.0     6.976744\n",
       "Name: Fandango_Stars, dtype: float64"
      ]
     },
     "execution_count": 20,
     "metadata": {},
     "output_type": "execute_result"
    }
   ],
   "source": [
    "print ('2015')\n",
    "print('-' * 15)\n",
    "\n",
    "fs_2015['Fandango_Stars'].value_counts(normalize=True).sort_index() *100"
   ]
  },
  {
   "cell_type": "code",
   "execution_count": 21,
   "metadata": {
    "collapsed": false
   },
   "outputs": [
    {
     "name": "stdout",
     "output_type": "stream",
     "text": [
      "2016\n",
      "----------------\n"
     ]
    },
    {
     "data": {
      "text/plain": [
       "2.5     3.141361\n",
       "3.0     7.329843\n",
       "3.5    24.083770\n",
       "4.0    40.314136\n",
       "4.5    24.607330\n",
       "5.0     0.523560\n",
       "Name: fandango, dtype: float64"
      ]
     },
     "execution_count": 21,
     "metadata": {},
     "output_type": "execute_result"
    }
   ],
   "source": [
    "print('2016' + '\\n' + '-' * 16)\n",
    "mv_2016['fandango'].value_counts(normalize=True).sort_index() *100"
   ]
  },
  {
   "cell_type": "markdown",
   "metadata": {},
   "source": [
    "Less than 1% of popular movies had perfecr rating of 5.0 stars\n",
    "in 2016 compared to about 7% in 2015.\n",
    "\n",
    "There was about 13% decrease in the popular movie ratings which had 4.5 in\n",
    "2015 to tht of 2016\n",
    "\n",
    "None of the popular movies rated below 3.0 in 2015 while\n",
    "3.1% rated 2.5 in 2016\n",
    "\n",
    "These clearly shows a decrease in the ratings in 2016 to\n",
    "that of 2015\n",
    "    \n",
    "    "
   ]
  },
  {
   "cell_type": "markdown",
   "metadata": {
    "collapsed": true
   },
   "source": [
    "## TAKING STATISTICAL METRICS ##"
   ]
  },
  {
   "cell_type": "code",
   "execution_count": 22,
   "metadata": {
    "collapsed": false
   },
   "outputs": [],
   "source": [
    "mean_2015 = fs_2015['Fandango_Stars'].mean()\n",
    "mean_2016 = mv_2016['fandango'].mean()\n",
    "\n",
    "median_2015 = fs_2015['Fandango_Stars'].median()\n",
    "median_2016 = mv_2016['fandango'].median()\n",
    "\n",
    "mode_2015 = fs_2015['Fandango_Stars'].mode()[0]\n",
    "mode_2016 = mv_2016['fandango'].mode()[0]\n",
    "\n"
   ]
  },
  {
   "cell_type": "code",
   "execution_count": 23,
   "metadata": {
    "collapsed": true
   },
   "outputs": [],
   "source": [
    "stat = pd.DataFrame()\n",
    "stat['2015'] = [mean_2015, median_2015, mode_2015]\n",
    "stat['2016'] = [mean_2016, median_2016, mode_2016]\n",
    "\n",
    "stat.index = ['mean', 'median', 'mode']"
   ]
  },
  {
   "cell_type": "code",
   "execution_count": 24,
   "metadata": {
    "collapsed": false
   },
   "outputs": [
    {
     "data": {
      "text/html": [
       "<div>\n",
       "<style scoped>\n",
       "    .dataframe tbody tr th:only-of-type {\n",
       "        vertical-align: middle;\n",
       "    }\n",
       "\n",
       "    .dataframe tbody tr th {\n",
       "        vertical-align: top;\n",
       "    }\n",
       "\n",
       "    .dataframe thead th {\n",
       "        text-align: right;\n",
       "    }\n",
       "</style>\n",
       "<table border=\"1\" class=\"dataframe\">\n",
       "  <thead>\n",
       "    <tr style=\"text-align: right;\">\n",
       "      <th></th>\n",
       "      <th>2015</th>\n",
       "      <th>2016</th>\n",
       "    </tr>\n",
       "  </thead>\n",
       "  <tbody>\n",
       "    <tr>\n",
       "      <th>mean</th>\n",
       "      <td>4.085271</td>\n",
       "      <td>3.887435</td>\n",
       "    </tr>\n",
       "    <tr>\n",
       "      <th>median</th>\n",
       "      <td>4.000000</td>\n",
       "      <td>4.000000</td>\n",
       "    </tr>\n",
       "    <tr>\n",
       "      <th>mode</th>\n",
       "      <td>4.500000</td>\n",
       "      <td>4.000000</td>\n",
       "    </tr>\n",
       "  </tbody>\n",
       "</table>\n",
       "</div>"
      ],
      "text/plain": [
       "            2015      2016\n",
       "mean    4.085271  3.887435\n",
       "median  4.000000  4.000000\n",
       "mode    4.500000  4.000000"
      ]
     },
     "execution_count": 24,
     "metadata": {},
     "output_type": "execute_result"
    }
   ],
   "source": [
    "stat"
   ]
  },
  {
   "cell_type": "markdown",
   "metadata": {
    "collapsed": true
   },
   "source": [
    "The median value remains unchanged for both years, \n",
    "However, there is a difference in the mean and modal score, as\n",
    "the scoresof 2015 are greater than that of 2016."
   ]
  },
  {
   "cell_type": "code",
   "execution_count": 30,
   "metadata": {
    "collapsed": false
   },
   "outputs": [
    {
     "data": {
      "image/png": "[encoded data removed]",
      "text/plain": [
       "<matplotlib.figure.Figure at 0x7fe7f3d9b128>"
      ]
     },
     "metadata": {},
     "output_type": "display_data"
    }
   ],
   "source": [
    "stat['2015'].plot.bar(color='blue', label='2015',align='center', width=0.2)\n",
    "stat['2016'].plot.bar(color='red', label='2016', align='edge', width=0.2,rot=0)\n",
    "plt.title('Fandango Rating Statistics: 2015 v 2016')\n",
    "plt.ylabel('Stars')\n",
    "plt.ylim(0,5.5)\n",
    "plt.yticks(np.arange(0,5.1,0.5))\n",
    "plt.legend(loc='upper center')\n",
    "plt.show()"
   ]
  },
  {
   "cell_type": "markdown",
   "metadata": {},
   "source": [
    "## CONCLUSION ##\n",
    "\n",
    "From our analysis we could obviously see a slight difference in the\n",
    "rating of popular movies for the year 2015 and 2016. While we could not wholly conclude the \n",
    "exact cause of the change/difference, we could say it is probably due \n",
    "to Hickey's analysis which prompted Fandango into fixing the bias in their \n",
    "movie rating system"
   ]
  },
  {
   "cell_type": "code",
   "execution_count": null,
   "metadata": {
    "collapsed": true
   },
   "outputs": [],
   "source": []
  }
 ],
 "metadata": {
  "kernelspec": {
   "display_name": "Python 3",
   "language": "python",
   "name": "python3"
  },
  "language_info": {
   "codemirror_mode": {
    "name": "ipython",
    "version": 3
   },
   "file_extension": ".py",
   "mimetype": "text/x-python",
   "name": "python",
   "nbconvert_exporter": "python",
   "pygments_lexer": "ipython3",
   "version": "3.4.3"
  }
 },
 "nbformat": 4,
 "nbformat_minor": 2
}
